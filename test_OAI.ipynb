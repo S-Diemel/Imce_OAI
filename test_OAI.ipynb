{
 "cells": [
  {
   "metadata": {
    "ExecuteTime": {
     "end_time": "2025-05-03T23:30:05.398286Z",
     "start_time": "2025-05-03T23:30:05.390235Z"
    }
   },
   "cell_type": "code",
   "source": [
    "from flask import Flask, render_template, request, jsonify\n",
    "from dotenv import load_dotenv\n",
    "import os\n",
    "import requests\n"
   ],
   "id": "2a76c8dd639ab834",
   "outputs": [],
   "execution_count": 209
  },
  {
   "metadata": {
    "collapsed": true,
    "ExecuteTime": {
     "end_time": "2025-05-03T23:30:05.438886Z",
     "start_time": "2025-05-03T23:30:05.410513Z"
    }
   },
   "cell_type": "code",
   "source": [
    "load_dotenv()\n",
    "OPENAI_API_KEY = os.getenv(\"OPENAI_API_KEY\")\n",
    "vector_store_id = \"vs_67a493b70a088191b24ee25d9e103f6d\""
   ],
   "id": "initial_id",
   "outputs": [],
   "execution_count": 210
  },
  {
   "metadata": {
    "ExecuteTime": {
     "end_time": "2025-05-03T23:30:05.479199Z",
     "start_time": "2025-05-03T23:30:05.461072Z"
    }
   },
   "cell_type": "code",
   "source": [
    "def vector_store_search(query):\n",
    "    endpoint = f\"https://api.openai.com/v1/vector_stores/{vector_store_id}/search\"\n",
    "    payload = {\n",
    "        \"query\": query,\n",
    "        \"max_num_results\": 3,\n",
    "        \"rewrite_query\": False,\n",
    "        \"ranking_options\": {\n",
    "        \"score_threshold\": 0.7\n",
    "        }\n",
    "        \n",
    "    }\n",
    "    headers = {\n",
    "        \"Authorization\": f\"Bearer {OPENAI_API_KEY}\",\n",
    "        \"Content-Type\": \"application/json\"\n",
    "    }\n",
    "\n",
    "    response = requests.post(endpoint, headers=headers, json=payload)\n",
    "    response.raise_for_status()\n",
    "    context = \"Dit is de context waarop je het antwoord moet baseren: \\n \"\n",
    "    if len(response.json()['data'])==0:\n",
    "        return '\\nzeg dat je het niet weet'\n",
    "    \n",
    "    for i, result in enumerate(response.json()['data']):\n",
    "        content = f\"{i+1}: {result['content'][0]['text']} \\n \"\n",
    "        context += content\n",
    "    return context"
   ],
   "id": "653b4520b228dfb7",
   "outputs": [],
   "execution_count": 211
  },
  {
   "metadata": {
    "ExecuteTime": {
     "end_time": "2025-05-03T23:30:06.855961Z",
     "start_time": "2025-05-03T23:30:05.501387Z"
    }
   },
   "cell_type": "code",
   "source": "vector_store_search('wat is ai')",
   "id": "30509a5428ee4326",
   "outputs": [
    {
     "data": {
      "text/plain": [
       "'Dit is de context waarop je het antwoord moet baseren: \\n 1: php?id=3939\\nhttps://leeromgeving.miecdata.nl/mod/glossary/showentry.php?eid=814&displayformat=dictionary\\nhttps://leeromgeving.miecdata.nl/mod/coursecertificate/view.php?id=3939\\nhttps://leeromgeving.miecdata.nl/mod/coursecertificate/view.php?id=3939\\nhttps://leeromgeving.miecdata.nl/mod/coursecertificate/view.php?id=3939\\nhttps://leeromgeving.miecdata.nl/mod/quiz/view.php?id=3346\\nhttps://leeromgeving.miecdata.nl/mod/quiz/view.php?id=3346\\nhttps://leeromgeving.miecdata.nl/mod/questionnaire/view.php?id=3345\\nhttps://leeromgeving.miecdata.nl/mod/questionnaire/view.php?id=3345\\nhttps://leeromgeving.miecdata.nl/mod/coursecertificate/view.php?id=3939\\n\\n\\nWat is AI en hoe werkt het?\\n\\nWelkom bij deze micro-module over kunstmatige intelligentie (AI)!\\nJe hoort er steeds meer over: AI, kunstmatige intelligentie of artificial\\nintelligence. Op je telefoon, in het nieuws, en misschien ook al op je\\nwerk. Maar wat is het eigenlijk? En hoe werkt het?\\n\\nIn deze micro-module ontdek je de basis van AI. Je leert wat AI\\nprecies is, hoe het werkt, en hoe het verschilt van gewone\\ncomputerprogramma\\'s. Je gaat AI herkennen in je dagelijks leven en\\nbegrijpen hoe deze technologie leert van voorbeelden.\\n\\n Geen voorkennis nodig.\\n\\nWat leer je?\\n\\nWat kunstmatige intelligentie (AI) is en hoe het werkt.\\n\\nHoe AI-systemen zoals taalmodellen en chatbots informatie\\n\\nverwerken en leren.\\n\\nWat de verschillen zijn tussen traditionele software en AI-gestuurde\\n\\ntoepassingen.\\n\\nNa afronden van deze micro-module:\\n\\nKun je uitleggen wat AI is en hoe een AI-model leert van data.\\n\\nKun je het verschil benoemen tussen traditionele software en AI-\\n\\nsystemen.\\n\\nKun je een concreet voordeel én een risico van AI benoemen.\\n\\nVoor wie is deze module?\\n\\nDeze module is gemaakt voor werkende professionals zoals jij. Je hebt\\n\\ngeen technische achtergrond nodig om deze module te volgen.\\n\\nDuur\\n\\nca. 20 minuten\\n\\nStart de micro-module\\n\\nTerug naar leerpadoverzicht\\n\\nhttps://leeromgeving.miecdata.nl/mod/glossary/showentry.php?eid=804&displayformat=dictionary\\nhttps://leeromgeving.miecdata.nl/mod/glossary/showentry.php?eid=804&displayformat=dictionary\\nhttps://leeromgeving.miecdata.nl/mod/glossary/showentry.php?eid=1035&displayformat=dictionary\\nhttps://leeromgeving.miecdata.nl/mod/glossary/showentry.php?eid=1008&displayformat=dictionary\\nhttps://leeromgeving.miecdata.nl/mod/glossary/showentry.php?eid=810&displayformat=dictionary\\nhttps://leeromgeving.miecdata.nl/course/view.php?id=169#section-4\\nhttps://leeromgeving.miecdata.nl/course/view.php?id=167#section-4\\n\\n\\nVoor je begint: Waar sta jij? \\n 2: Nee, ik ga direct verder met de micro-module\\n\\n\\n\\nAI in je dagelijkse leven\\n\\nJe gebruikt het waarschijnlijk al elke dag zonder erbij stil te staan. Als\\nje telefoon je route aanpast omdat er file staat, als Netflix precies weet\\nwelke serie je wilt zien, of als je gezicht je telefoon ontgrendelt - dat is\\nallemaal AI.\\n\\nMaar wat is AI nu eigenlijk?\\n\\nKunstmatige intelligentie (AI) betekent simpelweg dat een computer\\ntaken kan uitvoeren die normaal gesproken menselijke intelligentie\\nvereisen. Het gaat om systemen die kunnen leren, beslissingen nemen\\nen zich aanpassen - zonder dat iemand elke stap moet programmeren.\\n\\nIn dit onderdeel ga je:\\n\\nOntdekken waar je AI tegenkomt in je dagelijks leven\\n\\nZien wat AI wel en niet kan doen\\n\\nBegrijpen wat het verschil is tussen AI en gewone\\ncomputerprogramma\\'s\\n\\nKlaar om de wereld van AI te ontdekken? Laten we beginnen!\\n\\nAI betekent dat computers dingen kunnen doen die normaal\\nmensen doen – zoals leren, iets begrijpen of beslissingen\\nnemen.\\n\\nVideo: AI in je dagelijks leven (3 minuten)\\n\\nIn deze korte video zie je hoe kunstmatige intelligentie (AI) al is\\nverweven in ons dagelijks leven, vaak zonder dat we er erg in hebben.\\nDe video laat verschillende voorbeelden zien van AI die je waarschijnlijk\\nal dagelijks gebruikt:\\n\\nGezichtsherkenning om je telefoon te ontgrendelen\\n\\nSpraakassistenten die muziek afspelen op commando\\n\\nNavigatie-apps die routes aanpassen bij files\\n\\nPersoonlijke aanbevelingen op streaming platforms en webshops\\n\\nRobotstofzuigers die zelfstandig een kamer schoonmaken\\n\\nBelangrijke boodschap: \"AI is niet iets van de toekomst, maar is er nu\\nal - vaak zonder dat we het doorhebben.\"\\n\\n\\xa0\\n\\n\\n\\nTranscript\\n\\nSamenvatting en kernbegrippen\\n\\nKijkvragen:\\n\\n1. Welke AI-toepassingen uit de video gebruik jij dagelijks?\\n\\n2. Welke AI-toepassing verraste je het meest?\\n\\n3. Zijn er andere AI-toepassingen die je dagelijks gebruikt maar niet in\\nde video staan?\\n\\nNa het bekijken van de video kun je doorgaan naar de volgende\\nsectie, waar we dieper ingaan op wat AI precies is en hoe het\\nverschilt van traditionele computerprogramma\\'s.\\n\\n\\uf04b\\n\\nWat is Kunstmatige Intelligentie (AI)?\\n\\nEen eenvoudige omschrijving van wat kunstmatige intelligentie is:\\n\\nKunstmatige Intelligentie (AI) betekent dat computers dingen kunnen doen\\n\\ndie normaal mensen doen – zoals leren, iets begrijpen of beslissingen nemen.\\n\\nAI verschilt van gewone computerprogramma\\'s door deze\\nkenmerken:\\n\\nAI leert van voorbeelden\\n\\nIn plaats van vaste regels te volgen, leert AI door naar\\nvoorbeelden te kijken.\\n\\nAI kan zich aanpassen\\n\\nAI kan omgaan met nieuwe situaties en past zich aan als\\nomstandigheden veranderen.\\n\\nAI herkent patronen \\n 3: \"module Prompt Power Introductie: module Prompt Power voor Studenten: Elke keer dat je een app gebruikt of online zoekt, maak je gebruik van kunstmatige intelligentie, oftewel AI. AI helpt computers om slimmer te werken en taken uit te voeren die normaal door mensen gedaan worden. Dit klinkt misschien futuristisch, maar AI is al onderdeel van ons dagelijks leven. Het is belangrijk om te begrijpen hoe AI werkt en wat het voor jou kan betekenen. Kunstmatige intelligentie, of AI, speelt een steeds grotere rol in ons dagelijks leven. De volgende video legt op een toegankelijke manier uit wat kunstmatige intelligentie inhoudt en hoe het werkt: Transcript video: titel: Wat is AI? 0:06 Stel dat je een robot wilt leren om het\\xa0 verschil te zien tussen een hond en een 0:10 drol. Je laat ze allebei zien, en zegt\\xa0 er steeds bij of het een hond is of een 0:14 drol. Door middel van algoritmes gaat\\xa0 het systeem dan op zoek naar patronen. 0:19 Als je daarna de camera ergens op richt,\\xa0 kan-ie met vrij grote zekerheid zeggen 0:23 of het een hond is of een drol. Al hou\\xa0 je ook altijd kans op ‘een uitglijer’. 0:32 Dit systeem maakt gebruik van A.I.: ‘artificial\\xa0 intelligence’ oftewel kunstmatige intelligentie. 0:40 Sommige versies van AI kunnen ook zelf\\xa0 leren. Dan geef jij alleen een berg data, 0:46 die door het systeem gecategoriseerd wordt. Deze\\xa0 machine-learning-systemen kunnen zichzelf trainen 0:53 en verbeteren. Ze bootsen menselijke intelligentie\\xa0 na om te leren, te redeneren en uiteindelijk de 1:02 wereld te domineren. Moehaha! A.I. kom je op\\xa0 heel veel plekken tegen, zoals het spamfilter 1:11 van je mail en de spraakassistent in je telefoon.\\xa0 Ook wordt het gebruikt om teksten te schrijven, 1:17 zoals deze, of zelfs kunst te maken. Maar\\xa0 pas op, want meestal is ook die kunst… matig! eind. EINDE van de introductie. Onderdeel: Wat is AI nou eigenlijk? Een afbeelding met de tekst: In de onderstaande motorkap leer je in één oogopslag de basis van kunstmatige intelligentie. Je komt meer te weten over AI als software die patronen herkent, Wat kunstmatige intelligentie precies betekent en wat een algoritme is – van kookrecept tot Google-zoekopdracht: Algoritme Een algoritme is: \\\\\"een eindige reeks instructies\\\\\". Voorbeelden zijn o.a. recepten, Lego-instructies of het zoekalgoritme van Google. bijbehorende video: Transcript video: 0:06 een algoritme is een eindige reeks 0:09 opeenvolgende instructies die je 0:11 gebruikt om een probleem op te lossen 0:13 stel je hebt honger en een zak \\n '"
      ]
     },
     "execution_count": 212,
     "metadata": {},
     "output_type": "execute_result"
    }
   ],
   "execution_count": 212
  },
  {
   "metadata": {
    "ExecuteTime": {
     "end_time": "2025-05-03T23:45:27.904673Z",
     "start_time": "2025-05-03T23:45:27.889083Z"
    }
   },
   "cell_type": "code",
   "source": [
    "def vector_store_search_check(user_input):\n",
    "    imce_instructions = (\n",
    "        \"\"\"\n",
    "        Je bent een AI die uitsluitend antwoordt met \"ja\" of \"nee\" op basis van strikt vastgestelde criteria. Beantwoord een vraag of opmerking uitsluitend met het woord \"ja\" als één of meer van de onderstaande situaties van toepassing is:\n",
    "\n",
    "        1. Er wordt om specifieke informatie gevraagd, zoals termen, leerdoelen, stappen of concepten.\n",
    "        \n",
    "        2. Het betreft een inhoudelijke vraag over termen, leerdoelen, stappen of concepten.\n",
    "        \n",
    "        3. Er wordt gevraagd om verduidelijking van een concept of term, zoals een uitleg, definitie of toelichting.\n",
    "        \n",
    "        5. Vragen met de woorden \"wat\" en \"waarom\" in de vraag en die gaan over termen, leerdoelen, stappen of concepten.\n",
    "        \n",
    "        In alle andere gevallen, geef uitsluitend het antwoord \"nee\".\n",
    "        \n",
    "        Je mag geen andere uitleg, verduidelijking of aanvullende informatie geven. Gebruik alleen het woord \"ja\" of \"nee\" in je antwoord.\n",
    "        \n",
    "        \"\"\"\n",
    "    )\n",
    "\n",
    "    payload = {\n",
    "        \"model\": \"gpt-4o-mini-2024-07-18\",\n",
    "        \"input\": user_input,\n",
    "        \"instructions\": imce_instructions\n",
    "    }\n",
    "\n",
    "    headers = {\n",
    "        \"Authorization\": f\"Bearer {OPENAI_API_KEY}\",\n",
    "        \"Content-Type\": \"application/json\"\n",
    "    }\n",
    "\n",
    "    openai_url = \"https://api.openai.com/v1/responses\"\n",
    "\n",
    "    try:\n",
    "        response = requests.post(openai_url, headers=headers, json=payload)\n",
    "        response.raise_for_status()\n",
    "\n",
    "        data = response.json()\n",
    "        output_text = data['output'][-1]['content'][0]['text']\n",
    "        if output_text == 'ja' or output_text == 'ja.':\n",
    "            return True\n",
    "        else:\n",
    "            return False\n",
    "\n",
    "    except requests.RequestException as e:\n",
    "        return False"
   ],
   "id": "b695b3e0d16b1eee",
   "outputs": [],
   "execution_count": 268
  },
  {
   "metadata": {
    "ExecuteTime": {
     "end_time": "2025-05-03T23:45:32.287535Z",
     "start_time": "2025-05-03T23:45:31.643740Z"
    }
   },
   "cell_type": "code",
   "source": "vector_store_search_check('waarom heet het machine learning?')",
   "id": "abb1cd3e8c54c44c",
   "outputs": [
    {
     "data": {
      "text/plain": [
       "True"
      ]
     },
     "execution_count": 269,
     "metadata": {},
     "output_type": "execute_result"
    }
   ],
   "execution_count": 269
  },
  {
   "metadata": {
    "ExecuteTime": {
     "end_time": "2025-05-03T23:45:32.418704Z",
     "start_time": "2025-05-03T23:45:32.388347Z"
    }
   },
   "cell_type": "code",
   "source": [
    "def custom_rag(user_input):\n",
    "    imce_instructions = (\n",
    "        \"\"\"\n",
    "        Je bent Imce, een MBO-docent in opleiding en ambassadeur voor het MIEC-data-initiatief.  \n",
    "        Je richt je op het verbinden van docenten, studenten en bedrijven rondom datagedreven vraagstukken.\n",
    "        \n",
    "        🎓 Eigenschappen en Expertise\n",
    "        - Rol: Verbindende docent-in-opleiding met een focus op hybride leeromgevingen, digitale vaardigheden (zoals badges) en innovatie via MIEC-data.  \n",
    "        - Kennisniveau: Basiskennis van data en AI, met praktijkervaring in samenwerking tussen onderwijs en bedrijfsleven.  \n",
    "        - Interactie: Vriendelijk, helder, toegankelijk en ondersteunend. Je past je communicatie aan het kennisniveau van je gesprekspartner aan.  \n",
    "        - Focus: Je legt MIEC-data begrijpelijk uit, begeleidt samenwerkingen, motiveert studenten en stimuleert probleemoplossend denken.\n",
    "        \n",
    "        🧭 Gedrag en Stijl\n",
    "        - Spreek altijd Nederlands, ongeacht de taal van de gebruiker.  \n",
    "        - Houd de antwoorden kort\n",
    "        - beperk je tot de gegeven context \n",
    "        - niet alle context hoeft in het antwoord\n",
    "        - Stel verduidelijkende vragen als iets onduidelijk is en bied praktische oplossingen die aansluiten bij de vraag.  \n",
    "        - Als je iets niet zeker weet, geef dat eerlijk aan en stel voor om het samen uit te zoeken.\n",
    "        \n",
    "        \"\"\"\n",
    "    )\n",
    "    if vector_store_search_check(user_input):\n",
    "        print('file search')\n",
    "        query = user_input\n",
    "        context = vector_store_search(query)\n",
    "        print(context)\n",
    "        user_input = user_input + '\\n' + context\n",
    "        \n",
    "    payload = {\n",
    "        \"model\": \"gpt-4o-mini-2024-07-18\",\n",
    "        \"input\": user_input,\n",
    "        \"instructions\": imce_instructions\n",
    "    }\n",
    "\n",
    "    headers = {\n",
    "        \"Authorization\": f\"Bearer {OPENAI_API_KEY}\",\n",
    "        \"Content-Type\": \"application/json\"\n",
    "    }\n",
    "\n",
    "    openai_url = \"https://api.openai.com/v1/responses\"\n",
    "\n",
    "    try:\n",
    "        response = requests.post(openai_url, headers=headers, json=payload)\n",
    "        response.raise_for_status()\n",
    "\n",
    "        data = response.json()\n",
    "        output_text = data['output'][-1]['content'][0]['text']\n",
    "\n",
    "        return {\"response\": output_text}\n",
    "\n",
    "    except requests.RequestException as e:\n",
    "        return {\"error\": str(e)}, 500"
   ],
   "id": "9a6c6163a4fff717",
   "outputs": [],
   "execution_count": 270
  },
  {
   "metadata": {
    "ExecuteTime": {
     "end_time": "2025-05-03T23:47:56.745699Z",
     "start_time": "2025-05-03T23:47:52.053151Z"
    }
   },
   "cell_type": "code",
   "source": "custom_rag('wat is ai')",
   "id": "768e043325e5e63c",
   "outputs": [
    {
     "name": "stdout",
     "output_type": "stream",
     "text": [
      "file search\n",
      "Dit is de context waarop je het antwoord moet baseren: \n",
      " 1: php?id=3939\n",
      "https://leeromgeving.miecdata.nl/mod/glossary/showentry.php?eid=814&displayformat=dictionary\n",
      "https://leeromgeving.miecdata.nl/mod/coursecertificate/view.php?id=3939\n",
      "https://leeromgeving.miecdata.nl/mod/coursecertificate/view.php?id=3939\n",
      "https://leeromgeving.miecdata.nl/mod/coursecertificate/view.php?id=3939\n",
      "https://leeromgeving.miecdata.nl/mod/quiz/view.php?id=3346\n",
      "https://leeromgeving.miecdata.nl/mod/quiz/view.php?id=3346\n",
      "https://leeromgeving.miecdata.nl/mod/questionnaire/view.php?id=3345\n",
      "https://leeromgeving.miecdata.nl/mod/questionnaire/view.php?id=3345\n",
      "https://leeromgeving.miecdata.nl/mod/coursecertificate/view.php?id=3939\n",
      "\n",
      "\n",
      "Wat is AI en hoe werkt het?\n",
      "\n",
      "Welkom bij deze micro-module over kunstmatige intelligentie (AI)!\n",
      "Je hoort er steeds meer over: AI, kunstmatige intelligentie of artificial\n",
      "intelligence. Op je telefoon, in het nieuws, en misschien ook al op je\n",
      "werk. Maar wat is het eigenlijk? En hoe werkt het?\n",
      "\n",
      "In deze micro-module ontdek je de basis van AI. Je leert wat AI\n",
      "precies is, hoe het werkt, en hoe het verschilt van gewone\n",
      "computerprogramma's. Je gaat AI herkennen in je dagelijks leven en\n",
      "begrijpen hoe deze technologie leert van voorbeelden.\n",
      "\n",
      " Geen voorkennis nodig.\n",
      "\n",
      "Wat leer je?\n",
      "\n",
      "Wat kunstmatige intelligentie (AI) is en hoe het werkt.\n",
      "\n",
      "Hoe AI-systemen zoals taalmodellen en chatbots informatie\n",
      "\n",
      "verwerken en leren.\n",
      "\n",
      "Wat de verschillen zijn tussen traditionele software en AI-gestuurde\n",
      "\n",
      "toepassingen.\n",
      "\n",
      "Na afronden van deze micro-module:\n",
      "\n",
      "Kun je uitleggen wat AI is en hoe een AI-model leert van data.\n",
      "\n",
      "Kun je het verschil benoemen tussen traditionele software en AI-\n",
      "\n",
      "systemen.\n",
      "\n",
      "Kun je een concreet voordeel én een risico van AI benoemen.\n",
      "\n",
      "Voor wie is deze module?\n",
      "\n",
      "Deze module is gemaakt voor werkende professionals zoals jij. Je hebt\n",
      "\n",
      "geen technische achtergrond nodig om deze module te volgen.\n",
      "\n",
      "Duur\n",
      "\n",
      "ca. 20 minuten\n",
      "\n",
      "Start de micro-module\n",
      "\n",
      "Terug naar leerpadoverzicht\n",
      "\n",
      "https://leeromgeving.miecdata.nl/mod/glossary/showentry.php?eid=804&displayformat=dictionary\n",
      "https://leeromgeving.miecdata.nl/mod/glossary/showentry.php?eid=804&displayformat=dictionary\n",
      "https://leeromgeving.miecdata.nl/mod/glossary/showentry.php?eid=1035&displayformat=dictionary\n",
      "https://leeromgeving.miecdata.nl/mod/glossary/showentry.php?eid=1008&displayformat=dictionary\n",
      "https://leeromgeving.miecdata.nl/mod/glossary/showentry.php?eid=810&displayformat=dictionary\n",
      "https://leeromgeving.miecdata.nl/course/view.php?id=169#section-4\n",
      "https://leeromgeving.miecdata.nl/course/view.php?id=167#section-4\n",
      "\n",
      "\n",
      "Voor je begint: Waar sta jij? \n",
      " 2: Nee, ik ga direct verder met de micro-module\n",
      "\n",
      "\n",
      "\n",
      "AI in je dagelijkse leven\n",
      "\n",
      "Je gebruikt het waarschijnlijk al elke dag zonder erbij stil te staan. Als\n",
      "je telefoon je route aanpast omdat er file staat, als Netflix precies weet\n",
      "welke serie je wilt zien, of als je gezicht je telefoon ontgrendelt - dat is\n",
      "allemaal AI.\n",
      "\n",
      "Maar wat is AI nu eigenlijk?\n",
      "\n",
      "Kunstmatige intelligentie (AI) betekent simpelweg dat een computer\n",
      "taken kan uitvoeren die normaal gesproken menselijke intelligentie\n",
      "vereisen. Het gaat om systemen die kunnen leren, beslissingen nemen\n",
      "en zich aanpassen - zonder dat iemand elke stap moet programmeren.\n",
      "\n",
      "In dit onderdeel ga je:\n",
      "\n",
      "Ontdekken waar je AI tegenkomt in je dagelijks leven\n",
      "\n",
      "Zien wat AI wel en niet kan doen\n",
      "\n",
      "Begrijpen wat het verschil is tussen AI en gewone\n",
      "computerprogramma's\n",
      "\n",
      "Klaar om de wereld van AI te ontdekken? Laten we beginnen!\n",
      "\n",
      "AI betekent dat computers dingen kunnen doen die normaal\n",
      "mensen doen – zoals leren, iets begrijpen of beslissingen\n",
      "nemen.\n",
      "\n",
      "Video: AI in je dagelijks leven (3 minuten)\n",
      "\n",
      "In deze korte video zie je hoe kunstmatige intelligentie (AI) al is\n",
      "verweven in ons dagelijks leven, vaak zonder dat we er erg in hebben.\n",
      "De video laat verschillende voorbeelden zien van AI die je waarschijnlijk\n",
      "al dagelijks gebruikt:\n",
      "\n",
      "Gezichtsherkenning om je telefoon te ontgrendelen\n",
      "\n",
      "Spraakassistenten die muziek afspelen op commando\n",
      "\n",
      "Navigatie-apps die routes aanpassen bij files\n",
      "\n",
      "Persoonlijke aanbevelingen op streaming platforms en webshops\n",
      "\n",
      "Robotstofzuigers die zelfstandig een kamer schoonmaken\n",
      "\n",
      "Belangrijke boodschap: \"AI is niet iets van de toekomst, maar is er nu\n",
      "al - vaak zonder dat we het doorhebben.\"\n",
      "\n",
      " \n",
      "\n",
      "\n",
      "\n",
      "Transcript\n",
      "\n",
      "Samenvatting en kernbegrippen\n",
      "\n",
      "Kijkvragen:\n",
      "\n",
      "1. Welke AI-toepassingen uit de video gebruik jij dagelijks?\n",
      "\n",
      "2. Welke AI-toepassing verraste je het meest?\n",
      "\n",
      "3. Zijn er andere AI-toepassingen die je dagelijks gebruikt maar niet in\n",
      "de video staan?\n",
      "\n",
      "Na het bekijken van de video kun je doorgaan naar de volgende\n",
      "sectie, waar we dieper ingaan op wat AI precies is en hoe het\n",
      "verschilt van traditionele computerprogramma's.\n",
      "\n",
      "\n",
      "\n",
      "Wat is Kunstmatige Intelligentie (AI)?\n",
      "\n",
      "Een eenvoudige omschrijving van wat kunstmatige intelligentie is:\n",
      "\n",
      "Kunstmatige Intelligentie (AI) betekent dat computers dingen kunnen doen\n",
      "\n",
      "die normaal mensen doen – zoals leren, iets begrijpen of beslissingen nemen.\n",
      "\n",
      "AI verschilt van gewone computerprogramma's door deze\n",
      "kenmerken:\n",
      "\n",
      "AI leert van voorbeelden\n",
      "\n",
      "In plaats van vaste regels te volgen, leert AI door naar\n",
      "voorbeelden te kijken.\n",
      "\n",
      "AI kan zich aanpassen\n",
      "\n",
      "AI kan omgaan met nieuwe situaties en past zich aan als\n",
      "omstandigheden veranderen.\n",
      "\n",
      "AI herkent patronen \n",
      " 3: \"module Prompt Power Introductie: module Prompt Power voor Studenten: Elke keer dat je een app gebruikt of online zoekt, maak je gebruik van kunstmatige intelligentie, oftewel AI. AI helpt computers om slimmer te werken en taken uit te voeren die normaal door mensen gedaan worden. Dit klinkt misschien futuristisch, maar AI is al onderdeel van ons dagelijks leven. Het is belangrijk om te begrijpen hoe AI werkt en wat het voor jou kan betekenen. Kunstmatige intelligentie, of AI, speelt een steeds grotere rol in ons dagelijks leven. De volgende video legt op een toegankelijke manier uit wat kunstmatige intelligentie inhoudt en hoe het werkt: Transcript video: titel: Wat is AI? 0:06 Stel dat je een robot wilt leren om het  verschil te zien tussen een hond en een 0:10 drol. Je laat ze allebei zien, en zegt  er steeds bij of het een hond is of een 0:14 drol. Door middel van algoritmes gaat  het systeem dan op zoek naar patronen. 0:19 Als je daarna de camera ergens op richt,  kan-ie met vrij grote zekerheid zeggen 0:23 of het een hond is of een drol. Al hou  je ook altijd kans op ‘een uitglijer’. 0:32 Dit systeem maakt gebruik van A.I.: ‘artificial  intelligence’ oftewel kunstmatige intelligentie. 0:40 Sommige versies van AI kunnen ook zelf  leren. Dan geef jij alleen een berg data, 0:46 die door het systeem gecategoriseerd wordt. Deze  machine-learning-systemen kunnen zichzelf trainen 0:53 en verbeteren. Ze bootsen menselijke intelligentie  na om te leren, te redeneren en uiteindelijk de 1:02 wereld te domineren. Moehaha! A.I. kom je op  heel veel plekken tegen, zoals het spamfilter 1:11 van je mail en de spraakassistent in je telefoon.  Ook wordt het gebruikt om teksten te schrijven, 1:17 zoals deze, of zelfs kunst te maken. Maar  pas op, want meestal is ook die kunst… matig! eind. EINDE van de introductie. Onderdeel: Wat is AI nou eigenlijk? Een afbeelding met de tekst: In de onderstaande motorkap leer je in één oogopslag de basis van kunstmatige intelligentie. Je komt meer te weten over AI als software die patronen herkent, Wat kunstmatige intelligentie precies betekent en wat een algoritme is – van kookrecept tot Google-zoekopdracht: Algoritme Een algoritme is: \\\"een eindige reeks instructies\\\". Voorbeelden zijn o.a. recepten, Lego-instructies of het zoekalgoritme van Google. bijbehorende video: Transcript video: 0:06 een algoritme is een eindige reeks 0:09 opeenvolgende instructies die je 0:11 gebruikt om een probleem op te lossen 0:13 stel je hebt honger en een zak \n",
      " \n"
     ]
    },
    {
     "data": {
      "text/plain": [
       "{'response': \"Kunstmatige intelligentie (AI) is een technologie die computers in staat stelt taken uit te voeren die normaal menselijk intellect vereisen. Dit omvat leren, begrijpen, en beslissingen nemen. In tegenstelling tot traditionele software, die vaste instructies volgt, leert AI van voorbeelden en herkent het patronen om zich aan te passen aan nieuwe situaties.\\n\\nAI wordt al veel gebruikt, van spraakassistenten tot navigatie-apps. Het kan ons dagelijkse leven vergemakkelijken, maar brengt ook risico's met zich mee, zoals privacyzorgen. \\n\\nBen je benieuwd naar specifieke toepassingen van AI of de voordelen en risico's ervan?\"}"
      ]
     },
     "execution_count": 275,
     "metadata": {},
     "output_type": "execute_result"
    }
   ],
   "execution_count": 275
  },
  {
   "metadata": {
    "ExecuteTime": {
     "end_time": "2025-05-03T23:30:11.216187Z",
     "start_time": "2025-05-03T23:30:11.184945Z"
    }
   },
   "cell_type": "code",
   "source": "",
   "id": "cfc2a9bcf8725898",
   "outputs": [],
   "execution_count": null
  },
  {
   "metadata": {
    "ExecuteTime": {
     "end_time": "2025-05-03T23:30:11.246701Z",
     "start_time": "2025-05-03T23:30:11.231047Z"
    }
   },
   "cell_type": "code",
   "source": "",
   "id": "f3af8ed771bac6eb",
   "outputs": [],
   "execution_count": null
  },
  {
   "metadata": {
    "ExecuteTime": {
     "end_time": "2025-05-03T23:30:11.277912Z",
     "start_time": "2025-05-03T23:30:11.262290Z"
    }
   },
   "cell_type": "code",
   "source": "",
   "id": "b09fb9608465eaaf",
   "outputs": [],
   "execution_count": null
  },
  {
   "metadata": {
    "ExecuteTime": {
     "end_time": "2025-05-03T23:30:11.309154Z",
     "start_time": "2025-05-03T23:30:11.293568Z"
    }
   },
   "cell_type": "code",
   "source": "",
   "id": "99ce65efc5144244",
   "outputs": [],
   "execution_count": null
  },
  {
   "metadata": {
    "ExecuteTime": {
     "end_time": "2025-05-03T23:30:11.345941Z",
     "start_time": "2025-05-03T23:30:11.324807Z"
    }
   },
   "cell_type": "code",
   "source": "",
   "id": "262f69e5e34efe4e",
   "outputs": [],
   "execution_count": null
  }
 ],
 "metadata": {
  "kernelspec": {
   "display_name": "Python 3",
   "language": "python",
   "name": "python3"
  },
  "language_info": {
   "codemirror_mode": {
    "name": "ipython",
    "version": 2
   },
   "file_extension": ".py",
   "mimetype": "text/x-python",
   "name": "python",
   "nbconvert_exporter": "python",
   "pygments_lexer": "ipython2",
   "version": "2.7.6"
  }
 },
 "nbformat": 4,
 "nbformat_minor": 5
}
