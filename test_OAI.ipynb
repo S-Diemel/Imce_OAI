{
 "cells": [
  {
   "metadata": {
    "ExecuteTime": {
     "end_time": "2025-04-04T09:12:31.376365Z",
     "start_time": "2025-04-04T09:12:31.344389Z"
    }
   },
   "cell_type": "code",
   "source": [
    "import os\n",
    "from openai import OpenAI\n",
    "from dotenv import load_dotenv"
   ],
   "id": "2a76c8dd639ab834",
   "outputs": [],
   "execution_count": 8
  },
  {
   "metadata": {
    "collapsed": true,
    "ExecuteTime": {
     "end_time": "2025-04-04T09:16:27.553412Z",
     "start_time": "2025-04-04T09:16:27.529376Z"
    }
   },
   "cell_type": "code",
   "source": [
    "load_dotenv()\n",
    "OPENAI_API_KEY = os.getenv(\"OPENAI_API_KEY\")"
   ],
   "id": "initial_id",
   "outputs": [],
   "execution_count": 12
  },
  {
   "metadata": {
    "ExecuteTime": {
     "end_time": "2025-04-04T09:31:33.209546Z",
     "start_time": "2025-04-04T09:31:25.475212Z"
    }
   },
   "cell_type": "code",
   "source": [
    "\n",
    "client = OpenAI(api_key=OPENAI_API_KEY)\n",
    "\n",
    "response = client.responses.create(\n",
    "    model=\"gpt-4o-mini\",\n",
    "    input=\"Wat is miecdata?\",\n",
    "    tools=[{\n",
    "        \"type\": \"file_search\",\n",
    "        \"vector_store_ids\": [\"vs_67a493b70a088191b24ee25d9e103f6d\"],\n",
    "        \"max_num_results\": 3\n",
    "    }]\n",
    ")\n",
    "print(response)"
   ],
   "id": "b695b3e0d16b1eee",
   "outputs": [
    {
     "name": "stdout",
     "output_type": "stream",
     "text": [
      "Response(id='resp_67efa6edde40819183eaed1fc3511b1a0eee0d4aa27f0fed', created_at=1743759085.0, error=None, incomplete_details=None, instructions=None, metadata={}, model='gpt-4o-mini-2024-07-18', object='response', output=[ResponseFileSearchToolCall(id='fs_67efa6ee7dd8819183b8df77960ba7df0eee0d4aa27f0fed', queries=['Wat is miecdata?', 'miecdata definitie', 'miecdata betekenis'], status='completed', type='file_search_call', results=None), ResponseOutputMessage(id='msg_67efa6f081d08191859ced33772abf570eee0d4aa27f0fed', content=[ResponseOutputText(annotations=[AnnotationFileCitation(file_id='file-5KrBsxtCMaKrEaZeAuBUNh', index=668, type='file_citation', filename='Over MIEC Data platform.docx'), AnnotationFileCitation(file_id='file-5KrBsxtCMaKrEaZeAuBUNh', index=668, type='file_citation', filename='Over MIEC Data platform.docx'), AnnotationFileCitation(file_id='file-5KrBsxtCMaKrEaZeAuBUNh', index=858, type='file_citation', filename='Over MIEC Data platform.docx'), AnnotationFileCitation(file_id='file-5KrBsxtCMaKrEaZeAuBUNh', index=858, type='file_citation', filename='Over MIEC Data platform.docx'), AnnotationFileCitation(file_id='file-5KrBsxtCMaKrEaZeAuBUNh', index=1094, type='file_citation', filename='Over MIEC Data platform.docx'), AnnotationFileCitation(file_id='file-5KrBsxtCMaKrEaZeAuBUNh', index=1094, type='file_citation', filename='Over MIEC Data platform.docx'), AnnotationFileCitation(file_id='file-5KrBsxtCMaKrEaZeAuBUNh', index=1323, type='file_citation', filename='Over MIEC Data platform.docx')], text='MIEC Data is een initiatief gericht op het verbeteren van de datavaardigheden en het begrip van kunstmatige intelligentie (AI) voor mbo-professionals en studenten. Het project, bekend als het \"Mbo Innovatie & Expertise Community\" (MIEC), is opgezet door verschillende mbo-instellingen in Brabant in samenwerking met hogescholen en regionale bedrijven.\\n\\nDe belangrijkste doelstellingen van MIEC Data en AI zijn:\\n\\n1. **Onderwijs en Training**: MIEC biedt modules en activiteiten die studenten helpen om zich voor te bereiden op een toekomst waarin data en AI centraal staan. Dit omvat leren over dataveiligheid, online privacy, en effectieve communicatie met AI-systemen.\\n\\n2. **Competentieontwikkeling**: Het framework voor MIEC Data richt zich op vier kerncompetenties: mensgerichtheid, ethiek, het inzetten van AI-technieken, en het ontwerpen van AI-systemen.\\n\\n3. **Samenwerking**: Het platform stimuleert samenwerking tussen onderwijsinstellingen, bedrijven en kennispartners om innovatieve leermethoden te ontwikkelen, zoals praktische opdrachten, mini-cursussen en andere netwerkactiviteiten.\\n\\nHet doel van MIEC Data is om mbo-professionals voor te bereiden op de uitdagingen en kansen die technologie met zich meebrengt in hun vakgebied, en om de integratie van data en AI in verschillende beroepssectoren te bevorderen.', type='output_text')], role='assistant', status='completed', type='message')], parallel_tool_calls=True, temperature=1.0, tool_choice='auto', tools=[FileSearchTool(type='file_search', vector_store_ids=['vs_67a493b70a088191b24ee25d9e103f6d'], filters=None, max_num_results=20, ranking_options=RankingOptions(ranker='auto', score_threshold=0.0))], top_p=1.0, max_output_tokens=None, previous_response_id=None, reasoning=Reasoning(effort=None, generate_summary=None), status='completed', text=ResponseTextConfig(format=ResponseFormatText(type='text')), truncation='disabled', usage=ResponseUsage(input_tokens=4083, input_tokens_details=InputTokensDetails(cached_tokens=0), output_tokens=353, output_tokens_details=OutputTokensDetails(reasoning_tokens=0), total_tokens=4436), user=None, store=True)\n"
     ]
    }
   ],
   "execution_count": 16
  },
  {
   "metadata": {},
   "cell_type": "code",
   "outputs": [],
   "execution_count": null,
   "source": "",
   "id": "9a6c6163a4fff717"
  }
 ],
 "metadata": {
  "kernelspec": {
   "display_name": "Python 3",
   "language": "python",
   "name": "python3"
  },
  "language_info": {
   "codemirror_mode": {
    "name": "ipython",
    "version": 2
   },
   "file_extension": ".py",
   "mimetype": "text/x-python",
   "name": "python",
   "nbconvert_exporter": "python",
   "pygments_lexer": "ipython2",
   "version": "2.7.6"
  }
 },
 "nbformat": 4,
 "nbformat_minor": 5
}
