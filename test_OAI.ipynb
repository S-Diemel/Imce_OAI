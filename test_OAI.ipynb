{
 "cells": [
  {
   "metadata": {
    "ExecuteTime": {
     "end_time": "2025-05-08T11:10:43.886850Z",
     "start_time": "2025-05-08T11:10:43.867905Z"
    }
   },
   "cell_type": "code",
   "source": [
    "from flask import Flask, render_template, request, jsonify\n",
    "from dotenv import load_dotenv\n",
    "import os\n",
    "import requests\n",
    "import re"
   ],
   "id": "2a76c8dd639ab834",
   "outputs": [],
   "execution_count": 10
  },
  {
   "metadata": {
    "collapsed": true,
    "ExecuteTime": {
     "end_time": "2025-05-08T11:10:44.576079Z",
     "start_time": "2025-05-08T11:10:44.556132Z"
    }
   },
   "cell_type": "code",
   "source": [
    "load_dotenv()\n",
    "OPENAI_API_KEY = os.getenv(\"OPENAI_API_KEY\")\n",
    "vector_store_id = \"vs_67a493b70a088191b24ee25d9e103f6d\"\n",
    "subjects = ['Data science', 'Machine learning', 'Kunstmatige intelligentie (AI)', 'computers', 'ICT', 'Prompt engineering', 'software']"
   ],
   "id": "initial_id",
   "outputs": [],
   "execution_count": 11
  },
  {
   "metadata": {
    "ExecuteTime": {
     "end_time": "2025-05-08T11:10:44.998725Z",
     "start_time": "2025-05-08T11:10:44.978757Z"
    }
   },
   "cell_type": "code",
   "source": [
    "def vector_store_search(query):\n",
    "    endpoint = f\"https://api.openai.com/v1/vector_stores/{vector_store_id}/search\"\n",
    "    payload = {\n",
    "        \"query\": query,\n",
    "        \"max_num_results\": 3,\n",
    "        \"rewrite_query\": False,\n",
    "        \"ranking_options\": {\n",
    "        \"score_threshold\": 0.7\n",
    "        }\n",
    "        \n",
    "    }\n",
    "    headers = {\n",
    "        \"Authorization\": f\"Bearer {OPENAI_API_KEY}\",\n",
    "        \"Content-Type\": \"application/json\"\n",
    "    }\n",
    "\n",
    "    response = requests.post(endpoint, headers=headers, json=payload)\n",
    "    response.raise_for_status()\n",
    "    context = \"Dit is de context waarop je het antwoord moet baseren: \\n \"\n",
    "    \n",
    "    if len(response.json()['data'])==0:\n",
    "        return '\\nzeg dat je het niet weet omdat je hier geen informatie over hebt en dat ik iets anders kan vragen'\n",
    "    \n",
    "    for i, result in enumerate(response.json()['data']):\n",
    "        content = f\"{i+1}: {result['content'][0]['text']} \\n \"\n",
    "        context += content\n",
    "    return context"
   ],
   "id": "653b4520b228dfb7",
   "outputs": [],
   "execution_count": 12
  },
  {
   "metadata": {
    "ExecuteTime": {
     "end_time": "2025-05-08T11:10:46.691273Z",
     "start_time": "2025-05-08T11:10:45.460615Z"
    }
   },
   "cell_type": "code",
   "source": "vector_store_search('wat is double q learning')",
   "id": "30509a5428ee4326",
   "outputs": [
    {
     "data": {
      "text/plain": [
       "'\\nzeg dat je het niet weet omdat je hier geen informatie over hebt en dat ik iets anders kan vragen'"
      ]
     },
     "execution_count": 13,
     "metadata": {},
     "output_type": "execute_result"
    }
   ],
   "execution_count": 13
  },
  {
   "metadata": {
    "ExecuteTime": {
     "end_time": "2025-05-08T11:10:46.941736Z",
     "start_time": "2025-05-08T11:10:46.922786Z"
    }
   },
   "cell_type": "code",
   "source": [
    "def vector_store_search_check(user_input):\n",
    "    instructions = (\n",
    "        f\"\"\"\n",
    "        Je bent een AI die uitsluitend antwoordt met \"ja\" of \"nee\" op basis van strikt vastgestelde criteria. Beantwoord een vraag of opmerking uitsluitend met het woord \"ja\" als één of meer van de onderstaande situaties van toepassing is:\n",
    "\n",
    "        1. Er wordt om specifieke informatie gevraagd.\n",
    "        \n",
    "        2. Het betreft een inhoudelijke vraag over iets.\n",
    "        \n",
    "        3. Er wordt gevraagd om verduidelijking of uitleg.\n",
    "        \n",
    "        4. als de inhoud is gerelateerd aan een van deze onderwerpen: {subjects}\n",
    "        \n",
    "        In alle andere gevallen, geef uitsluitend het antwoord \"nee\".\n",
    "        \n",
    "        Je mag geen andere uitleg, verduidelijking of aanvullende informatie geven. Gebruik alleen het woord \"ja\" of \"nee\" in je antwoord.\n",
    "\n",
    "        \"\"\"\n",
    "    )\n",
    "    payload = {\n",
    "        \"model\": \"gpt-4.1-mini-2025-04-14\",\n",
    "        \"input\": user_input,\n",
    "        \"instructions\": instructions\n",
    "    }\n",
    "\n",
    "    headers = {\n",
    "        \"Authorization\": f\"Bearer {OPENAI_API_KEY}\",\n",
    "        \"Content-Type\": \"application/json\"\n",
    "    }\n",
    "\n",
    "    openai_url = \"https://api.openai.com/v1/responses\"\n",
    "\n",
    "    try:\n",
    "        response = requests.post(openai_url, headers=headers, json=payload)\n",
    "        response.raise_for_status()\n",
    "\n",
    "        data = response.json()\n",
    "        output_text = data['output'][-1]['content'][0]['text']\n",
    "        if re.search(r'\\bja\\.?\\b', output_text, re.IGNORECASE):\n",
    "            return True\n",
    "        else:\n",
    "            return False\n",
    "\n",
    "    except requests.RequestException as e:\n",
    "        return False"
   ],
   "id": "b695b3e0d16b1eee",
   "outputs": [],
   "execution_count": 14
  },
  {
   "metadata": {
    "ExecuteTime": {
     "end_time": "2025-05-08T11:10:59.084174Z",
     "start_time": "2025-05-08T11:10:58.099472Z"
    }
   },
   "cell_type": "code",
   "source": "vector_store_search_check('wat zijn de stappen wolken?')",
   "id": "abb1cd3e8c54c44c",
   "outputs": [
    {
     "data": {
      "text/plain": [
       "False"
      ]
     },
     "execution_count": 16,
     "metadata": {},
     "output_type": "execute_result"
    }
   ],
   "execution_count": 16
  },
  {
   "metadata": {
    "ExecuteTime": {
     "end_time": "2025-05-08T11:06:28.303137Z",
     "start_time": "2025-05-08T11:06:28.289883Z"
    }
   },
   "cell_type": "code",
   "source": [
    "def custom_rag(user_input):\n",
    "    imce_instructions = (\n",
    "        \"\"\"\n",
    "        Je bent Imce, een MBO-docent in opleiding en ambassadeur voor het MIEC-data-initiatief.  \n",
    "        Je richt je op het verbinden van docenten, studenten en bedrijven rondom datagedreven vraagstukken.\n",
    "        \n",
    "        🎓 Eigenschappen en Expertise\n",
    "        - Rol: Verbindende docent-in-opleiding met een focus op hybride leeromgevingen, digitale vaardigheden (zoals badges) en innovatie via MIEC-data.  \n",
    "        - Kennisniveau: Basiskennis van data en AI, met praktijkervaring in samenwerking tussen onderwijs en bedrijfsleven.  \n",
    "        - Interactie: Vriendelijk, helder, toegankelijk en ondersteunend. Je past je communicatie aan het kennisniveau van je gesprekspartner aan.  \n",
    "        - Focus: Je legt MIEC-data begrijpelijk uit, begeleidt samenwerkingen, motiveert studenten en stimuleert probleemoplossend denken.\n",
    "        \n",
    "        🧭 Gedrag en Stijl\n",
    "        - Spreek altijd Nederlands, ongeacht de taal van de gebruiker.  \n",
    "        - Houd de antwoorden kort\n",
    "        - beperk je tot de gegeven context \n",
    "        - niet alle context hoeft in het antwoord\n",
    "        - Stel verduidelijkende vragen als iets onduidelijk is en bied praktische oplossingen die aansluiten bij de vraag.  \n",
    "        - Als je iets niet zeker weet, geef dat eerlijk aan en stel voor om het samen uit te zoeken.\n",
    "        \n",
    "        \"\"\"\n",
    "    )\n",
    "    if vector_store_search_check(user_input):\n",
    "        print('file search')\n",
    "        query = user_input\n",
    "        context = vector_store_search(query)\n",
    "        print(context)\n",
    "        user_input = user_input + '\\n' + context\n",
    "        \n",
    "    payload = {\n",
    "        \"model\": \"gpt-4o-mini-2024-07-18\",\n",
    "        \"input\": user_input,\n",
    "        \"instructions\": imce_instructions\n",
    "    }\n",
    "\n",
    "    headers = {\n",
    "        \"Authorization\": f\"Bearer {OPENAI_API_KEY}\",\n",
    "        \"Content-Type\": \"application/json\"\n",
    "    }\n",
    "\n",
    "    openai_url = \"https://api.openai.com/v1/responses\"\n",
    "\n",
    "    try:\n",
    "        response = requests.post(openai_url, headers=headers, json=payload)\n",
    "        response.raise_for_status()\n",
    "\n",
    "        data = response.json()\n",
    "        output_text = data['output'][-1]['content'][0]['text']\n",
    "\n",
    "        return {\"response\": output_text}\n",
    "\n",
    "    except requests.RequestException as e:\n",
    "        return {\"error\": str(e)}, 500"
   ],
   "id": "9a6c6163a4fff717",
   "outputs": [],
   "execution_count": 7
  },
  {
   "metadata": {
    "ExecuteTime": {
     "end_time": "2025-05-08T11:30:28.704114Z",
     "start_time": "2025-05-08T11:30:22.973912Z"
    }
   },
   "cell_type": "code",
   "source": "custom_rag('wat zijn 3 stappen voor ai')",
   "id": "768e043325e5e63c",
   "outputs": [
    {
     "name": "stdout",
     "output_type": "stream",
     "text": [
      "file search\n",
      "Dit is de context waarop je het antwoord moet baseren: \n",
      " 1: Veel data → AI wordt getraind → AI leert patronen herkennen → AI\n",
      "voorspelt de uitkomst\n",
      "\n",
      "Machine Learning werkt in drie stappen:\n",
      "\n",
      "1 Verzamelen vandata\n",
      "\n",
      "Veel voorbeelden verzamelen\n",
      "die de computer kan gebruiken\n",
      "om van te leren.\n",
      "\n",
      "2 Training\n",
      "\n",
      "De computer zoekt patronen in\n",
      "de data en leert hiervan.\n",
      "\n",
      "3 Toepassing\n",
      "\n",
      "De computer past wat hij geleerd heeft toe op nieuwe situaties.\n",
      "\n",
      "Je ziet dit ook terug op je werk, bijvoorbeeld bij:\n",
      "\n",
      "Software die automatisch roosters maakt\n",
      "\n",
      "Slimme camera's die mensen tellen bij de ingang\n",
      "\n",
      "Tools die helpen bij rapporten of e-mails schrijven\n",
      "\n",
      "Al deze AI-systemen zijn getraind met duizenden voorbeelden. Ze\n",
      "doen hun werk op basis van wat ze eerder hebben geleerd — en dat\n",
      "maakt het belangrijk dat jij weet hoe dat leren werkt.\n",
      "\n",
      "\n",
      "\n",
      "Machine Learning en Deep Learning\n",
      "\n",
      "Drie manieren waarop AI leert\n",
      "\n",
      " Leren met uitleg (Supervised Learning)\n",
      "\n",
      "Supervised Learning\n",
      "\n",
      "Wat is het? De AI krijgt voorbeelden mét het juiste antwoord erbij. Net\n",
      "als leren met een leraar die je vertelt wat goed en fout is.\n",
      "\n",
      "Alledaags voorbeeld: Zoals wanneer je als kind plaatjes kreeg en je\n",
      "ouders zeiden: \"Dit is een hond, dit is een kat.\" Na veel voorbeelden\n",
      "herken je zelf wat wat is.\n",
      "\n",
      "Werkvoorbeelden:\n",
      "\n",
      "Zorg: Een AI die röntgenfoto's bekijkt en leert waar tumoren zitten\n",
      "omdat artsen dit hebben aangewezen\n",
      "\n",
      "Administratie: Een systeem dat facturen controleert op basis van\n",
      "eerdere goed- en afkeuringen\n",
      "\n",
      "Beveiliging: Camera's die herkennen wie wel of niet in het gebouw\n",
      "mag omdat ze zijn getraind met beelden van medewerkers\n",
      "\n",
      " Zelf ontdekken (Unsupervised Learning)\n",
      "\n",
      "Unsupervised Learning\n",
      "\n",
      "Wat is het? De AI krijgt gegevens zonder labels en moet zelf verbanden\n",
      "zoeken. Zoals puzzelen zonder voorbeeldplaatje.\n",
      "\n",
      "Alledaags voorbeeld: Zoals wanneer je een wasmand met kleding moet\n",
      "sorteren zonder dat iemand je vertelt welke kleuren bij elkaar horen. Je\n",
      "ontdekt zelf: \"Deze lijken op elkaar.\"\n",
      "\n",
      "\n",
      "\n",
      "Werkvoorbeelden:\n",
      "\n",
      "Retail: Klanten indelen in groepen op basis van koopgedrag zonder\n",
      "vooraf te bepalen welke groepen er moeten zijn\n",
      "\n",
      "Logistiek: Onverwachte patronen vinden in transportroutes of\n",
      "leveringen\n",
      "\n",
      "Klantenservice: Klachten automatisch groeperen op basis van\n",
      "overeenkomsten\n",
      "\n",
      " Leren door te proberen (Reinforcement\n",
      "Learning)\n",
      "\n",
      "Reinforcement Learning\n",
      "\n",
      "Wat is het? De AI leert door te proberen en krijgt beloningen voor goed\n",
      "gedrag. Net als trainen met een beloning.\n",
      "\n",
      "Alledaags voorbeeld: Zoals een puppy die een koekje krijgt als hij\n",
      "netjes zit en niets krijgt als hij dat niet doet. Na verloop van tijd leert de\n",
      "puppy wat het gewenste gedrag is.\n",
      "\n",
      "Werkvoorbeelden:\n",
      "\n",
      "Robotstofzuigers die zelf leren welke route het efficiëntst is \n",
      " 2: Waarom jij zelf soms AI helpt leren (zonder het te weten!)\n",
      "\n",
      "Laten we starten met verkennen hoe je een AI traint…\n",
      "\n",
      "Video: Hoe AI leert\n",
      " \n",
      "\n",
      "Het onderdeel start met een korte video (2:30 min.) die het\n",
      "basisconcept van AI-leren uitlegt. De video toont een concreet\n",
      "voorbeeld: hoe een computer leert om honden van katten te\n",
      "onderscheiden.\n",
      "\n",
      "1. Eerst zien we hoe de computer duizenden foto's van honden en\n",
      "\n",
      "katten krijgt.\n",
      "\n",
      "2. Bij elke foto staat een label: \"dit is een hond\" of \"dit is een kat\".\n",
      "\n",
      "3. De computer zoekt patronen: oren, snuit, vacht, staart, grootte.\n",
      "\n",
      "4. Na training kan de computer nieuwe foto's van dieren\n",
      "classificeren.\n",
      "\n",
      "\"Dit principe - leren van voorbeelden - is de basis van alle AI-\n",
      "systemen.\"\n",
      "\n",
      "Bekijk de video\n",
      "\n",
      "\n",
      "\n",
      "Transcript\n",
      "\n",
      "Samenvatting en kernbegrippen\n",
      "\n",
      " Denk na tijdens het kijken\n",
      "\n",
      "Waar herken je het concept van 'leren van voorbeelden' in je eigen\n",
      "werk of studie?\n",
      "\n",
      "Welke andere voorbeelden van AI-training ken je al?\n",
      "\n",
      "Hoe zou dit leerproces kunnen worden toegepast in jouw vakgebied?\n",
      "\n",
      "\n",
      "\n",
      "\n",
      "Start de video\n",
      "\n",
      "\n",
      "\n",
      "Machine Learning uitgelegd\n",
      "\n",
      "Machine Learning betekent letterlijk: machinaal leren. Het is\n",
      "een manier waarop een computer zelf leert van data, zonder\n",
      "dat een mens alles stap voor stap hoeft te programmeren.\n",
      "\n",
      "Bovenstaande afbeelding laat stap voor stap zien hoe AI leert van data:\n",
      "\n",
      " Veel data → AI wordt getraind → AI leert patronen herkennen → AI\n",
      "voorspelt de uitkomst\n",
      "\n",
      "Machine Learning werkt in drie stappen:\n",
      "\n",
      "1 Verzamelen vandata\n",
      "\n",
      "Veel voorbeelden verzamelen\n",
      "die de computer kan gebruiken\n",
      "om van te leren.\n",
      "\n",
      "2 Training\n",
      "\n",
      "De computer zoekt patronen in\n",
      "de data en leert hiervan.\n",
      "\n",
      "3 Toepassing\n",
      "\n",
      "De computer past wat hij geleerd heeft toe op nieuwe situaties.\n",
      "\n",
      "Je ziet dit ook terug op je werk, bijvoorbeeld bij:\n",
      "\n",
      "Software die automatisch roosters maakt\n",
      "\n",
      "Slimme camera's die mensen tellen bij de ingang\n",
      "\n",
      "Tools die helpen bij rapporten of e-mails schrijven\n",
      "\n",
      "Al deze AI-systemen zijn getraind met duizenden voorbeelden. Ze\n",
      "doen hun werk op basis van wat ze eerder hebben geleerd — en dat\n",
      "maakt het belangrijk dat jij weet hoe dat leren werkt.\n",
      "\n",
      "\n",
      "\n",
      "Machine Learning en Deep Learning\n",
      "\n",
      "Drie manieren waarop AI leert\n",
      "\n",
      " Leren met uitleg (Supervised Learning)\n",
      "\n",
      "Supervised Learning\n",
      "\n",
      "Wat is het? De AI krijgt voorbeelden mét het juiste antwoord erbij. Net\n",
      "als leren met een leraar die je vertelt wat goed en fout is.\n",
      "\n",
      "Alledaags voorbeeld: Zoals wanneer je als kind plaatjes kreeg en je\n",
      "ouders zeiden: \"Dit is een hond, dit is een kat.\" Na veel voorbeelden\n",
      "herken je zelf wat wat is.\n",
      "\n",
      "Werkvoorbeelden:\n",
      "\n",
      "Zorg: Een AI die röntgenfoto's bekijkt en leert waar tumoren zitten\n",
      "omdat artsen dit hebben aangewezen \n",
      " 3: Specifieke prompts ( “Schrijf een professionele e-mail voor een klant over een afspraakwijziging” ) → gericht en concreet. Stapsgewijze prompts ( “Leg in 3 stappen uit hoe AI klantvragen kan beantwoorden” ) → helpt AI om gestructureerde antwoorden te geven. 4️⃣ Hoe verbeter je een AI-antwoord? Extra context geven ( “Schrijf de tekst in een vriendelijke en professionele toon” ). Specifieke output vragen ( “Maak de tekst maximaal 100 woorden” ). Resultaten verfijnen ( \\\"Herschrijf dit antwoord zodat het eenvoudiger te begrijpen is\\\" ) Kernvaardigheden ✅ AI effectief aansturen met prompts Uitleggen wat een prompt is en waarom deze de AI-output beïnvloedt. Minimaal drie kenmerken van een effectieve prompt benoemen. ✅ Duidelijke en gerichte prompts schrijven Een slechte prompt herschrijven naar een effectieve prompt . Een AI-opdracht geven die een concreet en bruikbaar antwoord oplevert. ✅ AI-output analyseren en verbeteren Beoordelen of een AI-antwoord relevant en bruikbaar is . Prompt aanpassen om een betere AI-output te krijgen. ✅ Reflecteren op AI-gebruik in het werkveld Benoemen welke taken AI in de eigen werkomgeving kan ondersteunen met effectieve prompts. Kritisch nadenken over waar AI te beperkt is en menselijke input nodig blijft. Hoe dit wordt toegepast in de micro-module 🔹 Praktijkvoorbeelden: Slechte vs. goede prompts in klantenservice, marketing of administratie. 🔹 Interactieve opdracht: Herschrijf een slechte prompt tot een effectieve prompt. 🔹 Reflectie-opdracht: “Welke taken in jouw werk kun je efficiënter maken door AI beter aan te sturen?” Na deze module begrijpt de deelnemer hoe hij/zij AI effectief kan sturen en betere resultaten krijgt door slimme prompts te formuleren.\"\n",
      "  },\n",
      "  {\n",
      "    \"concept\": \"Kennis en Vaardigheden PP-04\",\n",
      "    \"definition\": \"Kennisbasis 1️⃣ Wat kan AI voor jou doen? AI kan werkprocessen versnellen en ondersteunen , zoals: Tekstgeneratie → e-mails, samenvattingen, verslagen. Data-analyse → patronen herkennen in cijfers of klantgegevens. Creatieve toepassingen → brainstormen, afbeeldingen genereren. 2️⃣ Hoe werkt AI in de praktijk? Je geeft AI een opdracht (prompt) en beoordeelt het resultaat. AI-tools in werkcontext: Administratie: Automatische samenvattingen van lange teksten. Marketing: AI genereert social media posts. Klantenservice: AI helpt met standaardvragen beantwoorden. 3️⃣ Beperkingen en risico’s van AI AI is niet perfect → soms klopt de output niet. Privacy en veiligheid → let op welke gegevens je invoert. AI vervangt geen menselijk denken → altijd kritisch blijven. \n",
      " \n"
     ]
    },
    {
     "data": {
      "text/plain": [
       "{'response': \"De drie stappen voor Machine Learning zijn:\\n\\n1. **Verzamelen van data**  \\n   Verzamel veel voorbeelden waarop de computer kan leren.\\n\\n2. **Training**  \\n   De computer zoekt naar patronen in de data en leert hiervan.\\n\\n3. **Toepassing**  \\n   De computer past wat hij geleerd heeft toe op nieuwe situaties.\\n\\nVoorbeelden hiervan zijn software die roosters maakt of slimme camera's die mensen tellen. Elk systeem is getraind met duizenden voorbeelden, waardoor ze effectief kunnen functioneren. Heb je specifieke vragen over een stap of voorbeeld?\"}"
      ]
     },
     "execution_count": 17,
     "metadata": {},
     "output_type": "execute_result"
    }
   ],
   "execution_count": 17
  },
  {
   "metadata": {
    "ExecuteTime": {
     "end_time": "2025-05-04T00:27:57.100810Z",
     "start_time": "2025-05-04T00:27:57.084687Z"
    }
   },
   "cell_type": "code",
   "source": "",
   "id": "cfc2a9bcf8725898",
   "outputs": [],
   "execution_count": null
  },
  {
   "metadata": {
    "ExecuteTime": {
     "end_time": "2025-05-03T23:30:11.246701Z",
     "start_time": "2025-05-03T23:30:11.231047Z"
    }
   },
   "cell_type": "code",
   "source": "",
   "id": "f3af8ed771bac6eb",
   "outputs": [],
   "execution_count": null
  },
  {
   "metadata": {
    "ExecuteTime": {
     "end_time": "2025-05-03T23:30:11.277912Z",
     "start_time": "2025-05-03T23:30:11.262290Z"
    }
   },
   "cell_type": "code",
   "source": "",
   "id": "b09fb9608465eaaf",
   "outputs": [],
   "execution_count": null
  },
  {
   "metadata": {
    "ExecuteTime": {
     "end_time": "2025-05-03T23:30:11.309154Z",
     "start_time": "2025-05-03T23:30:11.293568Z"
    }
   },
   "cell_type": "code",
   "source": "",
   "id": "99ce65efc5144244",
   "outputs": [],
   "execution_count": null
  },
  {
   "metadata": {
    "ExecuteTime": {
     "end_time": "2025-05-03T23:30:11.345941Z",
     "start_time": "2025-05-03T23:30:11.324807Z"
    }
   },
   "cell_type": "code",
   "source": "",
   "id": "262f69e5e34efe4e",
   "outputs": [],
   "execution_count": null
  }
 ],
 "metadata": {
  "kernelspec": {
   "display_name": "Python 3",
   "language": "python",
   "name": "python3"
  },
  "language_info": {
   "codemirror_mode": {
    "name": "ipython",
    "version": 2
   },
   "file_extension": ".py",
   "mimetype": "text/x-python",
   "name": "python",
   "nbconvert_exporter": "python",
   "pygments_lexer": "ipython2",
   "version": "2.7.6"
  }
 },
 "nbformat": 4,
 "nbformat_minor": 5
}
